{
  "nbformat": 4,
  "nbformat_minor": 0,
  "metadata": {
    "colab": {
      "name": "혼공머신9장2절순환신경망으로IMDB분류하기.ipynb",
      "provenance": [],
      "collapsed_sections": []
    },
    "kernelspec": {
      "name": "python3",
      "display_name": "Python 3"
    },
    "language_info": {
      "name": "python"
    }
  },
  "cells": [
    {
      "cell_type": "code",
      "source": [
        "# 혼공머신"
      ],
      "metadata": {
        "id": "VIq5VHpfx9GI"
      },
      "execution_count": 26,
      "outputs": []
    },
    {
      "cell_type": "code",
      "source": [
        "# 9장 텍스트를 위한 인공 신경망"
      ],
      "metadata": {
        "id": "x-JHTrsryCik"
      },
      "execution_count": null,
      "outputs": []
    },
    {
      "cell_type": "code",
      "source": [
        "# 9-2 순환 신경망으로 IMDB 리뷰 분류하기"
      ],
      "metadata": {
        "id": "z4-GEks7yC0B"
      },
      "execution_count": null,
      "outputs": []
    },
    {
      "cell_type": "code",
      "execution_count": 5,
      "metadata": {
        "colab": {
          "base_uri": "https://localhost:8080/"
        },
        "id": "s-QHufMsUTpx",
        "outputId": "4b43a6f7-2669-4fc9-e817-c5a53b3ac2ff"
      },
      "outputs": [
        {
          "output_type": "stream",
          "name": "stdout",
          "text": [
            "Downloading data from https://storage.googleapis.com/tensorflow/tf-keras-datasets/imdb.npz\n",
            "17465344/17464789 [==============================] - 0s 0us/step\n",
            "17473536/17464789 [==============================] - 0s 0us/step\n",
            "(25000,) (25000,)\n"
          ]
        }
      ],
      "source": [
        "from tensorflow.keras.datasets import imdb\n",
        "(train_input, train_target),(test_input, test_target) = imdb.load_data(num_words=500)\n",
        "print(train_input.shape, test_input.shape)"
      ]
    },
    {
      "cell_type": "code",
      "source": [
        "print(len(train_input[1]))\n",
        "print(len(train_input[0]))\n",
        "print(train_input[0])"
      ],
      "metadata": {
        "colab": {
          "base_uri": "https://localhost:8080/"
        },
        "id": "hOBG9B2iVY-0",
        "outputId": "8d5dd12a-8796-4009-dc0b-64de7670e345"
      },
      "execution_count": 6,
      "outputs": [
        {
          "output_type": "stream",
          "name": "stdout",
          "text": [
            "189\n",
            "218\n",
            "[1, 14, 22, 16, 43, 2, 2, 2, 2, 65, 458, 2, 66, 2, 4, 173, 36, 256, 5, 25, 100, 43, 2, 112, 50, 2, 2, 9, 35, 480, 284, 5, 150, 4, 172, 112, 167, 2, 336, 385, 39, 4, 172, 2, 2, 17, 2, 38, 13, 447, 4, 192, 50, 16, 6, 147, 2, 19, 14, 22, 4, 2, 2, 469, 4, 22, 71, 87, 12, 16, 43, 2, 38, 76, 15, 13, 2, 4, 22, 17, 2, 17, 12, 16, 2, 18, 2, 5, 62, 386, 12, 8, 316, 8, 106, 5, 4, 2, 2, 16, 480, 66, 2, 33, 4, 130, 12, 16, 38, 2, 5, 25, 124, 51, 36, 135, 48, 25, 2, 33, 6, 22, 12, 215, 28, 77, 52, 5, 14, 407, 16, 82, 2, 8, 4, 107, 117, 2, 15, 256, 4, 2, 7, 2, 5, 2, 36, 71, 43, 2, 476, 26, 400, 317, 46, 7, 4, 2, 2, 13, 104, 88, 4, 381, 15, 297, 98, 32, 2, 56, 26, 141, 6, 194, 2, 18, 4, 226, 22, 21, 134, 476, 26, 480, 5, 144, 30, 2, 18, 51, 36, 28, 224, 92, 25, 104, 4, 226, 65, 16, 38, 2, 88, 12, 16, 283, 5, 16, 2, 113, 103, 32, 15, 16, 2, 19, 178, 32]\n"
          ]
        }
      ]
    },
    {
      "cell_type": "code",
      "source": [
        "print(train_target[:20])"
      ],
      "metadata": {
        "colab": {
          "base_uri": "https://localhost:8080/"
        },
        "id": "beLWWIPVVmKV",
        "outputId": "d72200e7-ef6b-4b64-c828-dc37511afe75"
      },
      "execution_count": 7,
      "outputs": [
        {
          "output_type": "stream",
          "name": "stdout",
          "text": [
            "[1 0 0 1 0 0 1 0 1 0 1 0 0 0 0 0 1 1 0 1]\n"
          ]
        }
      ]
    },
    {
      "cell_type": "code",
      "source": [
        "from sklearn.model_selection import train_test_split\n",
        "\n",
        "train_input, val_input, train_target, val_target = train_test_split(train_input, train_target, test_size=0.2, random_state=42)"
      ],
      "metadata": {
        "id": "muOsneYUVsy5"
      },
      "execution_count": 10,
      "outputs": []
    },
    {
      "cell_type": "code",
      "source": [
        "import numpy as np\n",
        "lengths = np.array([len(x) for x in train_input])\n",
        "print(np.mean(lengths), np.median(lengths))"
      ],
      "metadata": {
        "colab": {
          "base_uri": "https://localhost:8080/"
        },
        "id": "qgkv2lwSWOCO",
        "outputId": "26919541-48cb-4252-f8ab-b743a0c5e43f"
      },
      "execution_count": 13,
      "outputs": [
        {
          "output_type": "stream",
          "name": "stdout",
          "text": [
            "239.00925 178.0\n"
          ]
        }
      ]
    },
    {
      "cell_type": "code",
      "source": [
        "import matplotlib.pyplot as plt\n",
        "plt.hist(lengths)\n",
        "plt.xlabel('length')\n",
        "plt.ylabel('frequency')\n",
        "plt.show()"
      ],
      "metadata": {
        "colab": {
          "base_uri": "https://localhost:8080/",
          "height": 279
        },
        "id": "SxBACoHdWd04",
        "outputId": "de729b27-6019-42f4-b6a1-1a9ad3826c89"
      },
      "execution_count": 14,
      "outputs": [
        {
          "output_type": "display_data",
          "data": {
            "text/plain": [
              "<Figure size 432x288 with 1 Axes>"
            ],
            "image/png": "[encoded data removed]"
          },
          "metadata": {
            "needs_background": "light"
          }
        }
      ]
    },
    {
      "cell_type": "code",
      "source": [
        "from tensorflow.keras.preprocessing.sequence import pad_sequences\n",
        "\n",
        "train_seq = pad_sequences(train_input,maxlen=100)\n",
        "\n",
        "print(train_seq.shape)\n",
        "\n",
        "print(train_seq[0])\n",
        "\n",
        "print(train_input[0][-10:])\n",
        "\n",
        "print(train_seq[5])\n",
        "\n",
        "val_seq = pad_sequences(val_input, maxlen=100)"
      ],
      "metadata": {
        "colab": {
          "base_uri": "https://localhost:8080/"
        },
        "id": "uEm_w38IW37Q",
        "outputId": "8f3248ee-1b0a-4244-9e1b-8b71ed3ca3a3"
      },
      "execution_count": 16,
      "outputs": [
        {
          "output_type": "stream",
          "name": "stdout",
          "text": [
            "(20000, 100)\n",
            "[ 10   4  20   9   2 364 352   5  45   6   2   2  33 269   8   2 142   2\n",
            "   5   2  17  73  17 204   5   2  19  55   2   2  92  66 104  14  20  93\n",
            "  76   2 151  33   4  58  12 188   2 151  12 215  69 224 142  73 237   6\n",
            "   2   7   2   2 188   2 103  14  31  10  10 451   7   2   5   2  80  91\n",
            "   2  30   2  34  14  20 151  50  26 131  49   2  84  46  50  37  80  79\n",
            "   6   2  46   7  14  20  10  10 470 158]\n",
            "[6, 2, 46, 7, 14, 20, 10, 10, 470, 158]\n",
            "[  0   0   0   0   1   2 195  19  49   2   2 190   4   2 352   2 183  10\n",
            "  10  13  82  79   4   2  36  71 269   8   2  25  19  49   7   4   2   2\n",
            "   2   2   2  10  10  48  25  40   2  11   2   2  40   2   2   5   4   2\n",
            "   2  95  14 238  56 129   2  10  10  21   2  94 364 352   2   2  11 190\n",
            "  24 484   2   7  94 205 405  10  10  87   2  34  49   2   7   2   2   2\n",
            "   2   2 290   2  46  48  64  18   4   2]\n"
          ]
        }
      ]
    },
    {
      "cell_type": "code",
      "source": [
        "from tensorflow import keras\n",
        "\n",
        "model = keras.Sequential()\n",
        "\n",
        "model.add(keras.layers.SimpleRNN(8,input_shape=(100,500)))\n",
        "model.add(keras.layers.Dense(1, activation='sigmoid'))"
      ],
      "metadata": {
        "id": "Q9jF_3RQXf9L"
      },
      "execution_count": 17,
      "outputs": []
    },
    {
      "cell_type": "code",
      "source": [
        "train_oh = keras.utils.to_categorical(train_seq)\n",
        "\n",
        "print(train_oh.shape)\n",
        "\n",
        "print(train_oh[0][0][:12])\n",
        "\n",
        "print(np.sum(train_oh[0][0]))\n",
        "\n",
        "val_oh = keras.utils.to_categorical(val_seq)\n",
        "\n",
        "model.summary()"
      ],
      "metadata": {
        "colab": {
          "base_uri": "https://localhost:8080/"
        },
        "id": "FAvX_T8vYBsN",
        "outputId": "a3e778eb-7a4c-452f-f5cb-317bc84f7296"
      },
      "execution_count": 18,
      "outputs": [
        {
          "output_type": "stream",
          "name": "stdout",
          "text": [
            "(20000, 100, 500)\n",
            "[0. 0. 0. 0. 0. 0. 0. 0. 0. 0. 1. 0.]\n",
            "1.0\n",
            "Model: \"sequential\"\n",
            "_________________________________________________________________\n",
            " Layer (type)                Output Shape              Param #   \n",
            "=================================================================\n",
            " simple_rnn (SimpleRNN)      (None, 8)                 4072      \n",
            "                                                                 \n",
            " dense (Dense)               (None, 1)                 9         \n",
            "                                                                 \n",
            "=================================================================\n",
            "Total params: 4,081\n",
            "Trainable params: 4,081\n",
            "Non-trainable params: 0\n",
            "_________________________________________________________________\n"
          ]
        }
      ]
    },
    {
      "cell_type": "code",
      "source": [
        "rmsprop = keras.optimizers.RMSprop(learning_rate=1e-4)\n",
        "model.compile(optimizer=rmsprop, loss='binary_crossentropy', metrics=['accuracy'])\n",
        "checkpoint_cb = keras.callbacks.ModelCheckpoint('best-simplernn-model.h5', save_best_onpy=True)\n",
        "early_stopping_cb = keras.callbacks.EarlyStopping(patience=3,restore_best_weights=True )\n",
        "history = model.fit(train_oh, train_target, epochs=100, batch_size=64, validation_data = (val_oh, val_target), callbacks=[checkpoint_cb, early_stopping_cb])"
      ],
      "metadata": {
        "colab": {
          "base_uri": "https://localhost:8080/"
        },
        "id": "NZqlp_7SYe10",
        "outputId": "cc9618d4-63b6-47b7-8316-98b179422909"
      },
      "execution_count": 20,
      "outputs": [
        {
          "output_type": "stream",
          "name": "stdout",
          "text": [
            "Epoch 1/100\n",
            "313/313 [==============================] - 15s 42ms/step - loss: 0.7034 - accuracy: 0.4993 - val_loss: 0.6995 - val_accuracy: 0.4978\n",
            "Epoch 2/100\n",
            "313/313 [==============================] - 18s 57ms/step - loss: 0.6960 - accuracy: 0.5107 - val_loss: 0.6951 - val_accuracy: 0.5096\n",
            "Epoch 3/100\n",
            "313/313 [==============================] - 18s 59ms/step - loss: 0.6886 - accuracy: 0.5390 - val_loss: 0.6815 - val_accuracy: 0.5608\n",
            "Epoch 4/100\n",
            "313/313 [==============================] - 17s 55ms/step - loss: 0.6626 - accuracy: 0.6154 - val_loss: 0.6530 - val_accuracy: 0.6290\n",
            "Epoch 5/100\n",
            "313/313 [==============================] - 16s 52ms/step - loss: 0.6376 - accuracy: 0.6533 - val_loss: 0.6276 - val_accuracy: 0.6676\n",
            "Epoch 6/100\n",
            "313/313 [==============================] - 14s 46ms/step - loss: 0.6136 - accuracy: 0.6830 - val_loss: 0.6090 - val_accuracy: 0.6838\n",
            "Epoch 7/100\n",
            "313/313 [==============================] - 16s 51ms/step - loss: 0.5926 - accuracy: 0.7049 - val_loss: 0.5911 - val_accuracy: 0.7046\n",
            "Epoch 8/100\n",
            "313/313 [==============================] - 16s 51ms/step - loss: 0.5741 - accuracy: 0.7191 - val_loss: 0.5747 - val_accuracy: 0.7198\n",
            "Epoch 9/100\n",
            "313/313 [==============================] - 19s 61ms/step - loss: 0.5572 - accuracy: 0.7336 - val_loss: 0.5719 - val_accuracy: 0.7052\n",
            "Epoch 10/100\n",
            "313/313 [==============================] - 13s 42ms/step - loss: 0.5425 - accuracy: 0.7430 - val_loss: 0.5490 - val_accuracy: 0.7358\n",
            "Epoch 11/100\n",
            "313/313 [==============================] - 18s 56ms/step - loss: 0.5301 - accuracy: 0.7512 - val_loss: 0.5384 - val_accuracy: 0.7422\n",
            "Epoch 12/100\n",
            "313/313 [==============================] - 17s 54ms/step - loss: 0.5192 - accuracy: 0.7571 - val_loss: 0.5317 - val_accuracy: 0.7478\n",
            "Epoch 13/100\n",
            "313/313 [==============================] - 14s 45ms/step - loss: 0.5104 - accuracy: 0.7645 - val_loss: 0.5324 - val_accuracy: 0.7380\n",
            "Epoch 14/100\n",
            "313/313 [==============================] - 12s 38ms/step - loss: 0.5011 - accuracy: 0.7693 - val_loss: 0.5205 - val_accuracy: 0.7480\n",
            "Epoch 15/100\n",
            "313/313 [==============================] - 11s 36ms/step - loss: 0.4938 - accuracy: 0.7735 - val_loss: 0.5142 - val_accuracy: 0.7516\n",
            "Epoch 16/100\n",
            "313/313 [==============================] - 12s 39ms/step - loss: 0.4862 - accuracy: 0.7791 - val_loss: 0.5078 - val_accuracy: 0.7576\n",
            "Epoch 17/100\n",
            "313/313 [==============================] - 17s 54ms/step - loss: 0.4811 - accuracy: 0.7809 - val_loss: 0.5026 - val_accuracy: 0.7602\n",
            "Epoch 18/100\n",
            "313/313 [==============================] - 18s 59ms/step - loss: 0.4752 - accuracy: 0.7824 - val_loss: 0.5009 - val_accuracy: 0.7574\n",
            "Epoch 19/100\n",
            "313/313 [==============================] - 18s 58ms/step - loss: 0.4707 - accuracy: 0.7869 - val_loss: 0.4972 - val_accuracy: 0.7614\n",
            "Epoch 20/100\n",
            "313/313 [==============================] - 14s 44ms/step - loss: 0.4674 - accuracy: 0.7886 - val_loss: 0.4897 - val_accuracy: 0.7680\n",
            "Epoch 21/100\n",
            "313/313 [==============================] - 16s 50ms/step - loss: 0.4615 - accuracy: 0.7932 - val_loss: 0.4870 - val_accuracy: 0.7704\n",
            "Epoch 22/100\n",
            "313/313 [==============================] - 14s 46ms/step - loss: 0.4580 - accuracy: 0.7946 - val_loss: 0.4866 - val_accuracy: 0.7708\n",
            "Epoch 23/100\n",
            "313/313 [==============================] - 16s 50ms/step - loss: 0.4543 - accuracy: 0.7973 - val_loss: 0.4839 - val_accuracy: 0.7710\n",
            "Epoch 24/100\n",
            "313/313 [==============================] - 14s 44ms/step - loss: 0.4510 - accuracy: 0.7993 - val_loss: 0.4867 - val_accuracy: 0.7676\n",
            "Epoch 25/100\n",
            "313/313 [==============================] - 13s 40ms/step - loss: 0.4478 - accuracy: 0.8003 - val_loss: 0.4784 - val_accuracy: 0.7738\n",
            "Epoch 26/100\n",
            "313/313 [==============================] - 16s 50ms/step - loss: 0.4452 - accuracy: 0.8034 - val_loss: 0.4775 - val_accuracy: 0.7770\n",
            "Epoch 27/100\n",
            "313/313 [==============================] - 18s 59ms/step - loss: 0.4433 - accuracy: 0.8030 - val_loss: 0.4799 - val_accuracy: 0.7726\n",
            "Epoch 28/100\n",
            "313/313 [==============================] - 17s 53ms/step - loss: 0.4410 - accuracy: 0.8041 - val_loss: 0.4729 - val_accuracy: 0.7780\n",
            "Epoch 29/100\n",
            "313/313 [==============================] - 19s 59ms/step - loss: 0.4384 - accuracy: 0.8067 - val_loss: 0.4734 - val_accuracy: 0.7778\n",
            "Epoch 30/100\n",
            "313/313 [==============================] - 20s 64ms/step - loss: 0.4363 - accuracy: 0.8087 - val_loss: 0.4753 - val_accuracy: 0.7782\n",
            "Epoch 31/100\n",
            "313/313 [==============================] - 19s 62ms/step - loss: 0.4348 - accuracy: 0.8097 - val_loss: 0.4714 - val_accuracy: 0.7792\n",
            "Epoch 32/100\n",
            "313/313 [==============================] - 20s 63ms/step - loss: 0.4335 - accuracy: 0.8098 - val_loss: 0.4686 - val_accuracy: 0.7794\n",
            "Epoch 33/100\n",
            "313/313 [==============================] - 20s 63ms/step - loss: 0.4323 - accuracy: 0.8104 - val_loss: 0.4693 - val_accuracy: 0.7794\n",
            "Epoch 34/100\n",
            "313/313 [==============================] - 20s 64ms/step - loss: 0.4300 - accuracy: 0.8124 - val_loss: 0.4698 - val_accuracy: 0.7806\n",
            "Epoch 35/100\n",
            "313/313 [==============================] - 20s 65ms/step - loss: 0.4286 - accuracy: 0.8119 - val_loss: 0.4679 - val_accuracy: 0.7818\n",
            "Epoch 36/100\n",
            "313/313 [==============================] - 20s 63ms/step - loss: 0.4272 - accuracy: 0.8125 - val_loss: 0.4703 - val_accuracy: 0.7800\n",
            "Epoch 37/100\n",
            "313/313 [==============================] - 19s 62ms/step - loss: 0.4264 - accuracy: 0.8136 - val_loss: 0.4648 - val_accuracy: 0.7846\n",
            "Epoch 38/100\n",
            "313/313 [==============================] - 13s 40ms/step - loss: 0.4252 - accuracy: 0.8156 - val_loss: 0.4667 - val_accuracy: 0.7824\n",
            "Epoch 39/100\n",
            "313/313 [==============================] - 11s 36ms/step - loss: 0.4234 - accuracy: 0.8140 - val_loss: 0.4667 - val_accuracy: 0.7832\n",
            "Epoch 40/100\n",
            "313/313 [==============================] - 11s 36ms/step - loss: 0.4226 - accuracy: 0.8151 - val_loss: 0.4638 - val_accuracy: 0.7840\n",
            "Epoch 41/100\n",
            "313/313 [==============================] - 11s 36ms/step - loss: 0.4204 - accuracy: 0.8166 - val_loss: 0.4743 - val_accuracy: 0.7762\n",
            "Epoch 42/100\n",
            "313/313 [==============================] - 11s 36ms/step - loss: 0.4200 - accuracy: 0.8159 - val_loss: 0.4639 - val_accuracy: 0.7844\n",
            "Epoch 43/100\n",
            "313/313 [==============================] - 12s 37ms/step - loss: 0.4189 - accuracy: 0.8188 - val_loss: 0.4653 - val_accuracy: 0.7862\n"
          ]
        }
      ]
    },
    {
      "cell_type": "code",
      "source": [
        "plt.plot(history.history['loss'])\n",
        "plt.plot(history.history['val_loss'])\n",
        "plt.xlabel('epoch')\n",
        "plt.ylabel('loss')\n",
        "plt.legend(['train','val'])\n",
        "plt.show()"
      ],
      "metadata": {
        "colab": {
          "base_uri": "https://localhost:8080/",
          "height": 279
        },
        "id": "DEDjXtvrY1cD",
        "outputId": "90c65255-082f-48f9-85e9-bbfc4b39b472"
      },
      "execution_count": 21,
      "outputs": [
        {
          "output_type": "display_data",
          "data": {
            "text/plain": [
              "<Figure size 432x288 with 1 Axes>"
            ],
            "image/png": "[encoded data removed]"
          },
          "metadata": {
            "needs_background": "light"
          }
        }
      ]
    },
    {
      "cell_type": "code",
      "source": [
        "model2 = keras.Sequential()\n",
        "\n",
        "model2.add(keras.layers.Embedding(500,16, input_length=100))\n",
        "model2.add(keras.layers.SimpleRNN(8))\n",
        "model2.add(keras.layers.Dense(1, activation='sigmoid'))\n",
        "\n",
        "model2.summary()"
      ],
      "metadata": {
        "colab": {
          "base_uri": "https://localhost:8080/"
        },
        "id": "47n83MKgaGg5",
        "outputId": "9890010a-7b9a-4482-b197-d5824cb40adb"
      },
      "execution_count": 22,
      "outputs": [
        {
          "output_type": "stream",
          "name": "stdout",
          "text": [
            "Model: \"sequential_1\"\n",
            "_________________________________________________________________\n",
            " Layer (type)                Output Shape              Param #   \n",
            "=================================================================\n",
            " embedding (Embedding)       (None, 100, 16)           8000      \n",
            "                                                                 \n",
            " simple_rnn_1 (SimpleRNN)    (None, 8)                 200       \n",
            "                                                                 \n",
            " dense_1 (Dense)             (None, 1)                 9         \n",
            "                                                                 \n",
            "=================================================================\n",
            "Total params: 8,209\n",
            "Trainable params: 8,209\n",
            "Non-trainable params: 0\n",
            "_________________________________________________________________\n"
          ]
        }
      ]
    },
    {
      "cell_type": "code",
      "source": [
        "rmsprop = keras.optimizers.RMSprop(learning_rate=1e-4)\n",
        "model2.compile(optimizer=rmsprop, loss='binary_crossentropy', metrics=['accuracy'])\n",
        "checkpoint_cb = keras.callbacks.ModelCheckpoint('best-embedding-model.h5', save_best_only=True)\n",
        "early_stopping_cb = keras.callbacks.EarlyStopping(patience=3, restore_best_weights=True)\n",
        "history = model2.fit(train_seq, train_target, epochs=100, batch_size=64, validation_data=(val_seq, val_target), callbacks=[checkpoint_cb, early_stopping_cb])"
      ],
      "metadata": {
        "colab": {
          "base_uri": "https://localhost:8080/"
        },
        "id": "N2FmMDQFafDY",
        "outputId": "dabec6c4-b556-408e-8485-20540a385396"
      },
      "execution_count": 23,
      "outputs": [
        {
          "output_type": "stream",
          "name": "stdout",
          "text": [
            "Epoch 1/100\n",
            "313/313 [==============================] - 7s 20ms/step - loss: 0.6958 - accuracy: 0.5048 - val_loss: 0.6945 - val_accuracy: 0.4930\n",
            "Epoch 2/100\n",
            "313/313 [==============================] - 6s 20ms/step - loss: 0.6832 - accuracy: 0.5682 - val_loss: 0.6777 - val_accuracy: 0.5970\n",
            "Epoch 3/100\n",
            "313/313 [==============================] - 6s 20ms/step - loss: 0.6602 - accuracy: 0.6687 - val_loss: 0.6530 - val_accuracy: 0.6864\n",
            "Epoch 4/100\n",
            "313/313 [==============================] - 6s 20ms/step - loss: 0.6343 - accuracy: 0.7300 - val_loss: 0.6284 - val_accuracy: 0.7230\n",
            "Epoch 5/100\n",
            "313/313 [==============================] - 6s 20ms/step - loss: 0.6097 - accuracy: 0.7491 - val_loss: 0.6101 - val_accuracy: 0.7278\n",
            "Epoch 6/100\n",
            "313/313 [==============================] - 6s 20ms/step - loss: 0.5864 - accuracy: 0.7609 - val_loss: 0.5875 - val_accuracy: 0.7468\n",
            "Epoch 7/100\n",
            "313/313 [==============================] - 6s 20ms/step - loss: 0.5640 - accuracy: 0.7692 - val_loss: 0.5646 - val_accuracy: 0.7596\n",
            "Epoch 8/100\n",
            "313/313 [==============================] - 6s 20ms/step - loss: 0.5431 - accuracy: 0.7781 - val_loss: 0.5464 - val_accuracy: 0.7624\n",
            "Epoch 9/100\n",
            "313/313 [==============================] - 7s 23ms/step - loss: 0.5243 - accuracy: 0.7824 - val_loss: 0.5335 - val_accuracy: 0.7636\n",
            "Epoch 10/100\n",
            "313/313 [==============================] - 6s 20ms/step - loss: 0.5129 - accuracy: 0.7822 - val_loss: 0.5264 - val_accuracy: 0.7620\n",
            "Epoch 11/100\n",
            "313/313 [==============================] - 6s 20ms/step - loss: 0.5005 - accuracy: 0.7844 - val_loss: 0.5208 - val_accuracy: 0.7590\n",
            "Epoch 12/100\n",
            "313/313 [==============================] - 6s 20ms/step - loss: 0.4926 - accuracy: 0.7861 - val_loss: 0.5085 - val_accuracy: 0.7678\n",
            "Epoch 13/100\n",
            "313/313 [==============================] - 6s 20ms/step - loss: 0.4876 - accuracy: 0.7868 - val_loss: 0.5078 - val_accuracy: 0.7686\n",
            "Epoch 14/100\n",
            "313/313 [==============================] - 6s 20ms/step - loss: 0.4798 - accuracy: 0.7907 - val_loss: 0.5007 - val_accuracy: 0.7744\n",
            "Epoch 15/100\n",
            "313/313 [==============================] - 6s 20ms/step - loss: 0.4744 - accuracy: 0.7941 - val_loss: 0.4983 - val_accuracy: 0.7710\n",
            "Epoch 16/100\n",
            "313/313 [==============================] - 6s 20ms/step - loss: 0.4689 - accuracy: 0.7961 - val_loss: 0.4955 - val_accuracy: 0.7724\n",
            "Epoch 17/100\n",
            "313/313 [==============================] - 6s 20ms/step - loss: 0.4660 - accuracy: 0.7972 - val_loss: 0.4991 - val_accuracy: 0.7710\n",
            "Epoch 18/100\n",
            "313/313 [==============================] - 6s 20ms/step - loss: 0.4635 - accuracy: 0.7963 - val_loss: 0.4915 - val_accuracy: 0.7764\n",
            "Epoch 19/100\n",
            "313/313 [==============================] - 6s 20ms/step - loss: 0.4610 - accuracy: 0.7983 - val_loss: 0.4907 - val_accuracy: 0.7746\n",
            "Epoch 20/100\n",
            "313/313 [==============================] - 6s 20ms/step - loss: 0.4570 - accuracy: 0.7996 - val_loss: 0.4888 - val_accuracy: 0.7772\n",
            "Epoch 21/100\n",
            "313/313 [==============================] - 6s 20ms/step - loss: 0.4544 - accuracy: 0.8022 - val_loss: 0.4856 - val_accuracy: 0.7794\n",
            "Epoch 22/100\n",
            "313/313 [==============================] - 6s 20ms/step - loss: 0.4516 - accuracy: 0.8018 - val_loss: 0.4841 - val_accuracy: 0.7780\n",
            "Epoch 23/100\n",
            "313/313 [==============================] - 6s 20ms/step - loss: 0.4500 - accuracy: 0.8049 - val_loss: 0.4863 - val_accuracy: 0.7744\n",
            "Epoch 24/100\n",
            "313/313 [==============================] - 6s 20ms/step - loss: 0.4470 - accuracy: 0.8028 - val_loss: 0.4809 - val_accuracy: 0.7792\n",
            "Epoch 25/100\n",
            "313/313 [==============================] - 6s 20ms/step - loss: 0.4429 - accuracy: 0.8071 - val_loss: 0.4801 - val_accuracy: 0.7790\n",
            "Epoch 26/100\n",
            "313/313 [==============================] - 6s 20ms/step - loss: 0.4408 - accuracy: 0.8084 - val_loss: 0.4774 - val_accuracy: 0.7846\n",
            "Epoch 27/100\n",
            "313/313 [==============================] - 6s 20ms/step - loss: 0.4384 - accuracy: 0.8086 - val_loss: 0.4761 - val_accuracy: 0.7804\n",
            "Epoch 28/100\n",
            "313/313 [==============================] - 6s 20ms/step - loss: 0.4357 - accuracy: 0.8104 - val_loss: 0.4796 - val_accuracy: 0.7776\n",
            "Epoch 29/100\n",
            "313/313 [==============================] - 6s 20ms/step - loss: 0.4339 - accuracy: 0.8118 - val_loss: 0.4793 - val_accuracy: 0.7796\n",
            "Epoch 30/100\n",
            "313/313 [==============================] - 7s 23ms/step - loss: 0.4312 - accuracy: 0.8119 - val_loss: 0.4701 - val_accuracy: 0.7828\n",
            "Epoch 31/100\n",
            "313/313 [==============================] - 6s 20ms/step - loss: 0.4286 - accuracy: 0.8138 - val_loss: 0.4696 - val_accuracy: 0.7856\n",
            "Epoch 32/100\n",
            "313/313 [==============================] - 6s 20ms/step - loss: 0.4259 - accuracy: 0.8152 - val_loss: 0.4686 - val_accuracy: 0.7864\n",
            "Epoch 33/100\n",
            "313/313 [==============================] - 6s 20ms/step - loss: 0.4238 - accuracy: 0.8154 - val_loss: 0.4676 - val_accuracy: 0.7856\n",
            "Epoch 34/100\n",
            "313/313 [==============================] - 6s 20ms/step - loss: 0.4210 - accuracy: 0.8148 - val_loss: 0.4682 - val_accuracy: 0.7846\n",
            "Epoch 35/100\n",
            "313/313 [==============================] - 6s 20ms/step - loss: 0.4190 - accuracy: 0.8180 - val_loss: 0.4662 - val_accuracy: 0.7852\n",
            "Epoch 36/100\n",
            "313/313 [==============================] - 6s 20ms/step - loss: 0.4164 - accuracy: 0.8177 - val_loss: 0.4683 - val_accuracy: 0.7834\n",
            "Epoch 37/100\n",
            "313/313 [==============================] - 6s 20ms/step - loss: 0.4141 - accuracy: 0.8199 - val_loss: 0.4677 - val_accuracy: 0.7842\n",
            "Epoch 38/100\n",
            "313/313 [==============================] - 6s 20ms/step - loss: 0.4121 - accuracy: 0.8207 - val_loss: 0.4705 - val_accuracy: 0.7832\n"
          ]
        }
      ]
    },
    {
      "cell_type": "code",
      "source": [
        "plt.plot(history.history['loss'])\n",
        "plt.plot(history.history['val_loss'])\n",
        "plt.xlabel('epoch')\n",
        "plt.ylabel('loss')\n",
        "plt.legend(['train', 'val'])\n",
        "plt.show()"
      ],
      "metadata": {
        "colab": {
          "base_uri": "https://localhost:8080/",
          "height": 279
        },
        "id": "5Y9TSjI3bna5",
        "outputId": "aa6dbe40-e9e6-49e7-90c9-22e8e86fdb61"
      },
      "execution_count": 25,
      "outputs": [
        {
          "output_type": "display_data",
          "data": {
            "text/plain": [
              "<Figure size 432x288 with 1 Axes>"
            ],
            "image/png": "[encoded data removed]"
          },
          "metadata": {
            "needs_background": "light"
          }
        }
      ]
    }
  ]
}