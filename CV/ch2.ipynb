{
 "cells": [
  {
   "cell_type": "code",
   "execution_count": 1,
   "id": "08cbcc75",
   "metadata": {},
   "outputs": [],
   "source": [
    "import cv2\n",
    "import numpy as np\n",
    "import sys"
   ]
  },
  {
   "cell_type": "code",
   "execution_count": 8,
   "id": "c9b6808a",
   "metadata": {},
   "outputs": [
    {
     "name": "stdout",
     "output_type": "stream",
     "text": [
      "<class 'numpy.ndarray'>\n",
      "image1 shape (480, 640, 3)\n",
      "image2 shape (480, 640)\n",
      "data type uint8\n",
      "480 640\n"
     ]
    }
   ],
   "source": [
    "img1 = cv2.imread('./fig/cat.bmp')\n",
    "img2 = cv2.imread('./fig/cat.bmp', cv2.IMREAD_GRAYSCALE)\n",
    "\n",
    "print(type(img1))\n",
    "print('image1 shape', img1.shape)\n",
    "print('image2 shape', img2.shape)\n",
    "print('data type', img1.dtype)\n",
    "\n",
    "h, w = img1.shape[:2]\n",
    "print(h, w)\n",
    "\n",
    "# if img1 is None:\n",
    "#     print('image read failed')\n",
    "#     sys.exit()\n",
    "    \n",
    "# cv2.imshow('image1', img1)\n",
    "# cv2.imshow('image2', img2)\n",
    "\n",
    "# cv2.waitKey()\n",
    "# cv2.destroyAllWindows()"
   ]
  },
  {
   "cell_type": "code",
   "execution_count": 18,
   "id": "5ef43bec",
   "metadata": {},
   "outputs": [
    {
     "name": "stdout",
     "output_type": "stream",
     "text": [
      "[ 62 103 155]\n"
     ]
    }
   ],
   "source": [
    "img = cv2.imread('./fig/cat.bmp')\n",
    "\n",
    "h,w = img.shape[:2]\n",
    "\n",
    "# p1 = img[240, 320]\n",
    "p1 = img[h//2, w//2]\n",
    "\n",
    "img[10:200, 20:100] = (0,0,255)\n",
    "\n",
    "print(p1)\n",
    "\n",
    "cv2.imshow('image', img)\n",
    "\n",
    "cv2.waitKey()\n",
    "cv2.destroyAllWindows()"
   ]
  },
  {
   "cell_type": "code",
   "execution_count": 26,
   "id": "c305cd56",
   "metadata": {},
   "outputs": [],
   "source": [
    "img1 = np.zeros((400,600,3), np.uint8)\n",
    "img2 = np.ones((600,1200), np.uint8)*255\n",
    "img3 = np.full((600,1200,3),(255,255,0), np.uint8)\n",
    "\n",
    "cv2.imshow('img1', img1)\n",
    "cv2.imshow('img2', img2)\n",
    "cv2.imshow('img3', img3)\n",
    "\n",
    "cv2.waitKey()\n",
    "cv2.destroyAllWindows()"
   ]
  },
  {
   "cell_type": "code",
   "execution_count": 29,
   "id": "72fa9987",
   "metadata": {},
   "outputs": [],
   "source": [
    "img = cv2.imread('./fig/puppy.bmp')\n",
    "\n",
    "img1 =img\n",
    "img2 = img.copy()\n",
    "\n",
    "img[200:300, 240:400] = (0,0,255)\n",
    "\n",
    "cv2.imshow('img', img)\n",
    "cv2.imshow('img1', img1)\n",
    "cv2.imshow('img2', img2)\n",
    "\n",
    "cv2.waitKey()\n",
    "cv2.destroyAllWindows()"
   ]
  },
  {
   "cell_type": "code",
   "execution_count": 33,
   "id": "10ac5418",
   "metadata": {},
   "outputs": [],
   "source": [
    "img = cv2.imread('./fig/puppy.bmp')\n",
    "\n",
    "img1 = img[200:400, 300:500]\n",
    "img2 = img[200:400, 300:500].copy()\n",
    "\n",
    "cv2.circle(img1, (100,100), 50, (0,0,255), -1)\n",
    "cv2.circle(img2, (100,100), 50, (255,0,0), -1)\n",
    "\n",
    "cv2.imshow('img', img)\n",
    "cv2.imshow('img1', img1)\n",
    "cv2.imshow('img2', img2)\n",
    "\n",
    "\n",
    "cv2.waitKey()\n",
    "cv2.destroyAllWindows()"
   ]
  },
  {
   "cell_type": "code",
   "execution_count": 46,
   "id": "27665098",
   "metadata": {},
   "outputs": [
    {
     "data": {
      "text/plain": [
       "True"
      ]
     },
     "execution_count": 46,
     "metadata": {},
     "output_type": "execute_result"
    }
   ],
   "source": [
    "img = cv2.imread('./fig/puppy.bmp')\n",
    "\n",
    "img1 = img.copy()\n",
    "\n",
    "img1[150:250, 240:500] = (0,0,0)\n",
    "\n",
    "cv2.imshow('img', img)\n",
    "cv2.imshow('img1', img1)\n",
    "\n",
    "\n",
    "cv2.waitKey()\n",
    "cv2.destroyAllWindows()\n",
    "\n",
    "cv2.imwrite('img1.png', img1)"
   ]
  },
  {
   "cell_type": "code",
   "execution_count": null,
   "id": "4ab60b66",
   "metadata": {},
   "outputs": [],
   "source": []
  }
 ],
 "metadata": {
  "kernelspec": {
   "display_name": "Python 3 (ipykernel)",
   "language": "python",
   "name": "python3"
  },
  "language_info": {
   "codemirror_mode": {
    "name": "ipython",
    "version": 3
   },
   "file_extension": ".py",
   "mimetype": "text/x-python",
   "name": "python",
   "nbconvert_exporter": "python",
   "pygments_lexer": "ipython3",
   "version": "3.9.12"
  }
 },
 "nbformat": 4,
 "nbformat_minor": 5
}
